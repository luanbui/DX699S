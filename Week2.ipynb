{
 "cells": [
  {
   "cell_type": "markdown",
   "id": "5190b54c-d49c-4d6f-80cc-22555336a9cd",
   "metadata": {},
   "source": [
    "# Week 2 - Preprocessing, part 2\n",
    "\n",
    "# 1. Lesson: None"
   ]
  },
  {
   "cell_type": "markdown",
   "id": "47c4e5ff-b05f-4ef2-96f1-49dcb5beb158",
   "metadata": {},
   "source": [
    "# 2. Weekly graph question"
   ]
  },
  {
   "cell_type": "markdown",
   "id": "aad37e29-6e84-41fa-886d-abc1312213ab",
   "metadata": {},
   "source": [
    "The Storytelling With Data book mentions planning on a \"Who, What, and How\" for your data story.  Write down a possible Who, What, and How for your data, using the ideas in the book."
   ]
  },
  {
   "cell_type": "code",
   "execution_count": 32,
   "id": "c862fc32-1297-4587-b9da-4b0642ab3e6e",
   "metadata": {},
   "outputs": [
    {
     "ename": "SyntaxError",
     "evalue": "invalid syntax (2131742901.py, line 1)",
     "output_type": "error",
     "traceback": [
      "  \u001b[36mCell\u001b[39m\u001b[36m \u001b[39m\u001b[32mIn[32]\u001b[39m\u001b[32m, line 1\u001b[39m\n\u001b[31m    \u001b[39m\u001b[31mWho: My classmates and teachers\u001b[39m\n            ^\n\u001b[31mSyntaxError\u001b[39m\u001b[31m:\u001b[39m invalid syntax\n"
     ]
    }
   ],
   "source": [
    "Who: My classmates and teachers\n",
    "What: To inform them about detecting network threats and anomaly detection\n",
    "How: By using graphs and data to visualize the information"
   ]
  },
  {
   "cell_type": "markdown",
   "id": "898eb327-aefd-4ac0-b95a-92b616a2181b",
   "metadata": {},
   "source": [
    "# 3. Homework - work with your own data"
   ]
  },
  {
   "cell_type": "code",
   "execution_count": 33,
   "id": "fe925521-979f-4983-8d85-8db8d1316e99",
   "metadata": {},
   "outputs": [],
   "source": [
    "import pandas as pd\n",
    "import numpy as np\n",
    "from datetime import datetime, timedelta\n",
    "import kagglehub\n",
    "import os\n",
    "import seaborn as sns\n",
    "import matplotlib.pyplot as plt"
   ]
  },
  {
   "cell_type": "markdown",
   "id": "14836788-b235-4cd4-b94d-5f749c6141a8",
   "metadata": {},
   "source": [
    "This week, you will do the same types of exercises as last week, but you should use your chosen datasets that someone in your class found last semester. (They likely will not be the particular datasets that you found yourself.)\n",
    "\n",
    "### Here are some types of analysis you can do  Use Google, documentation, and ChatGPT to help you:\n",
    "\n",
    "- Summarize the datasets using info() and describe()\n",
    "\n",
    "- Are there any duplicate rows?\n",
    "\n",
    "- Are there any duplicate values in a given column (when this would be inappropriate?)\n",
    "\n",
    "- What are the mean, median, and mode of each column?\n",
    "\n",
    "- Are there any missing or null values?\n",
    "\n",
    "    - Do you want to fill in the missing value with a mean value?  A value of your choice?  Remove that row?\n",
    "\n",
    "- Identify any other inconsistent data (e.g. someone seems to be taking an action before they are born.)\n",
    "\n",
    "- Encode any categorical variables (e.g. with one-hot encoding.)\n",
    "\n",
    "### Conclusions:\n",
    "\n",
    "- Are the data usable?  If not, find some new data!\n",
    "\n",
    "- Do you need to modify or correct the data in some way?\n",
    "\n",
    "- Is there any class imbalance?  (Categories that have many more items than other categories)."
   ]
  },
  {
   "cell_type": "code",
   "execution_count": 34,
   "id": "11451ab6",
   "metadata": {},
   "outputs": [
    {
     "name": "stdout",
     "output_type": "stream",
     "text": [
      "Path to dataset files: C:\\Users\\luank\\.cache\\kagglehub\\datasets\\teamincribo\\cyber-security-attacks\\versions\\20\n",
      "Path to dataset files: C:\\Users\\luank\\.cache\\kagglehub\\datasets\\dhoogla\\unswnb15\\versions\\5\n"
     ]
    }
   ],
   "source": [
    "# Download the latest version of the dataset\n",
    "cybersecurity_data_path = kagglehub.dataset_download(\"teamincribo/cyber-security-attacks\")\n",
    "print(\"Path to dataset files:\", cybersecurity_data_path)\n",
    "# Construct the full cybersecurity_data_path to the CSV file (update the file name if necessary)\n",
    "csv_file = os.path.join(cybersecurity_data_path, \"cybersecurity_attacks.csv\")\n",
    "# Read the dataset into a DataFrame\n",
    "cybersecurity_data = pd.read_csv(csv_file)\n",
    "\n",
    "# Download the latest version of the dataset\n",
    "unsw_data_path = kagglehub.dataset_download(\"dhoogla/unswnb15\")\n",
    "print(\"Path to dataset files:\", unsw_data_path)\n",
    "# Construct the full cybersecurity_data_path to the CSV file (update the file name if necessary)\n",
    "csv_file = os.path.join(unsw_data_path, \"UNSW_NB15_training-set.parquet\")\n",
    "# Read the dataset into a DataFrame\n",
    "unsw_data = pd.read_parquet(csv_file)\n"
   ]
  },
  {
   "cell_type": "code",
   "execution_count": 35,
   "id": "54b4eddc",
   "metadata": {},
   "outputs": [
    {
     "name": "stdout",
     "output_type": "stream",
     "text": [
      "Cybersecurity Data Overview:\n",
      "             Timestamp Source IP Address Destination IP Address  Source Port  \\\n",
      "0  2023-05-30 06:33:58     103.216.15.12           84.9.164.252        31225   \n",
      "1  2020-08-26 07:08:30    78.199.217.198         66.191.137.154        17245   \n",
      "2  2022-11-13 08:23:25      63.79.210.48          198.219.82.17        16811   \n",
      "3  2023-07-02 10:38:46     163.42.196.10        101.228.192.255        20018   \n",
      "4  2023-07-16 13:11:07     71.166.185.76        189.243.174.238         6131   \n",
      "\n",
      "   Destination Port Protocol  Packet Length Packet Type Traffic Type  \\\n",
      "0             17616     ICMP            503        Data         HTTP   \n",
      "1             48166     ICMP           1174        Data         HTTP   \n",
      "2             53600      UDP            306     Control         HTTP   \n",
      "3             32534      UDP            385        Data         HTTP   \n",
      "4             26646      TCP           1462        Data          DNS   \n",
      "\n",
      "                                        Payload Data  ... Action Taken  \\\n",
      "0  Qui natus odio asperiores nam. Optio nobis ius...  ...       Logged   \n",
      "1  Aperiam quos modi officiis veritatis rem. Omni...  ...      Blocked   \n",
      "2  Perferendis sapiente vitae soluta. Hic delectu...  ...      Ignored   \n",
      "3  Totam maxime beatae expedita explicabo porro l...  ...      Blocked   \n",
      "4  Odit nesciunt dolorem nisi iste iusto. Animi v...  ...      Blocked   \n",
      "\n",
      "   Severity Level User Information  \\\n",
      "0             Low    Reyansh Dugal   \n",
      "1             Low       Sumer Rana   \n",
      "2             Low     Himmat Karpe   \n",
      "3          Medium       Fateh Kibe   \n",
      "4             Low     Dhanush Chad   \n",
      "\n",
      "                                  Device Information Network Segment  \\\n",
      "0  Mozilla/5.0 (compatible; MSIE 8.0; Windows NT ...       Segment A   \n",
      "1  Mozilla/5.0 (compatible; MSIE 8.0; Windows NT ...       Segment B   \n",
      "2  Mozilla/5.0 (compatible; MSIE 9.0; Windows NT ...       Segment C   \n",
      "3  Mozilla/5.0 (Macintosh; PPC Mac OS X 10_11_5; ...       Segment B   \n",
      "4  Mozilla/5.0 (compatible; MSIE 5.0; Windows NT ...       Segment C   \n",
      "\n",
      "    Geo-location Data Proxy Information Firewall Logs IDS/IPS Alerts  \\\n",
      "0  Jamshedpur, Sikkim      150.9.97.135      Log Data            NaN   \n",
      "1  Bilaspur, Nagaland               NaN      Log Data            NaN   \n",
      "2   Bokaro, Rajasthan    114.133.48.179      Log Data     Alert Data   \n",
      "3  Jaunpur, Rajasthan               NaN           NaN     Alert Data   \n",
      "4  Anantapur, Tripura     149.6.110.119           NaN     Alert Data   \n",
      "\n",
      "  Log Source  \n",
      "0     Server  \n",
      "1   Firewall  \n",
      "2   Firewall  \n",
      "3   Firewall  \n",
      "4   Firewall  \n",
      "\n",
      "[5 rows x 25 columns]\n",
      "\n",
      "Data Types:\n",
      "Timestamp                  object\n",
      "Source IP Address          object\n",
      "Destination IP Address     object\n",
      "Source Port                 int64\n",
      "Destination Port            int64\n",
      "Protocol                   object\n",
      "Packet Length               int64\n",
      "Packet Type                object\n",
      "Traffic Type               object\n",
      "Payload Data               object\n",
      "Malware Indicators         object\n",
      "Anomaly Scores            float64\n",
      "Alerts/Warnings            object\n",
      "Attack Type                object\n",
      "Attack Signature           object\n",
      "Action Taken               object\n",
      "Severity Level             object\n",
      "User Information           object\n",
      "Device Information         object\n",
      "Network Segment            object\n",
      "Geo-location Data          object\n",
      "Proxy Information          object\n",
      "Firewall Logs              object\n",
      "IDS/IPS Alerts             object\n",
      "Log Source                 object\n",
      "dtype: object\n",
      "\n",
      "Missing Values:\n",
      "Timestamp                     0\n",
      "Source IP Address             0\n",
      "Destination IP Address        0\n",
      "Source Port                   0\n",
      "Destination Port              0\n",
      "Protocol                      0\n",
      "Packet Length                 0\n",
      "Packet Type                   0\n",
      "Traffic Type                  0\n",
      "Payload Data                  0\n",
      "Malware Indicators        20000\n",
      "Anomaly Scores                0\n",
      "Alerts/Warnings           20067\n",
      "Attack Type                   0\n",
      "Attack Signature              0\n",
      "Action Taken                  0\n",
      "Severity Level                0\n",
      "User Information              0\n",
      "Device Information            0\n",
      "Network Segment               0\n",
      "Geo-location Data             0\n",
      "Proxy Information         19851\n",
      "Firewall Logs             19961\n",
      "IDS/IPS Alerts            20050\n",
      "Log Source                    0\n",
      "dtype: int64\n",
      "\n",
      "Descriptive Statistics:\n",
      "        Source Port  Destination Port  Packet Length  Anomaly Scores\n",
      "count  40000.000000      40000.000000   40000.000000    40000.000000\n",
      "mean   32970.356450      33150.868650     781.452725       50.113473\n",
      "std    18560.425604      18574.668842     416.044192       28.853598\n",
      "min     1027.000000       1024.000000      64.000000        0.000000\n",
      "25%    16850.750000      17094.750000     420.000000       25.150000\n",
      "50%    32856.000000      33004.500000     782.000000       50.345000\n",
      "75%    48928.250000      49287.000000    1143.000000       75.030000\n",
      "max    65530.000000      65535.000000    1500.000000      100.000000\n",
      "\n",
      "Data Shape:\n",
      "(40000, 25)\n",
      "\n",
      "Column Names:\n",
      "['Timestamp', 'Source IP Address', 'Destination IP Address', 'Source Port', 'Destination Port', 'Protocol', 'Packet Length', 'Packet Type', 'Traffic Type', 'Payload Data', 'Malware Indicators', 'Anomaly Scores', 'Alerts/Warnings', 'Attack Type', 'Attack Signature', 'Action Taken', 'Severity Level', 'User Information', 'Device Information', 'Network Segment', 'Geo-location Data', 'Proxy Information', 'Firewall Logs', 'IDS/IPS Alerts', 'Log Source']\n"
     ]
    }
   ],
   "source": [
    "#cyber security cybersecurity_data exploration\n",
    "print(\"Cybersecurity Data Overview:\")\n",
    "print(cybersecurity_data.head())\n",
    "print(\"\\nData Types:\")\n",
    "print(cybersecurity_data.dtypes)\n",
    "print(\"\\nMissing Values:\")\n",
    "print(cybersecurity_data.isnull().sum())\n",
    "print(\"\\nDescriptive Statistics:\")\n",
    "print(cybersecurity_data.describe())\n",
    "print(\"\\nData Shape:\")\n",
    "print(cybersecurity_data.shape)\n",
    "print(\"\\nColumn Names:\")\n",
    "print(cybersecurity_data.columns.tolist())\n"
   ]
  },
  {
   "cell_type": "code",
   "execution_count": 36,
   "id": "b0a64c3a",
   "metadata": {},
   "outputs": [],
   "source": [
    "\n",
    "cybersecurity_data.rename(columns={'Timestamp':'Datetime'}, inplace=True)\n",
    "cybersecurity_data['Datetime'] = cybersecurity_data['Datetime'].apply(lambda x: pd.to_datetime(x))"
   ]
  },
  {
   "cell_type": "code",
   "execution_count": 37,
   "id": "416e3cda",
   "metadata": {},
   "outputs": [
    {
     "name": "stdout",
     "output_type": "stream",
     "text": [
      "Cybersecurity Data Overview:\n",
      "             Datetime Source IP Address Destination IP Address  Source Port  \\\n",
      "0 2023-05-30 06:33:58     103.216.15.12           84.9.164.252        31225   \n",
      "1 2020-08-26 07:08:30    78.199.217.198         66.191.137.154        17245   \n",
      "2 2022-11-13 08:23:25      63.79.210.48          198.219.82.17        16811   \n",
      "3 2023-07-02 10:38:46     163.42.196.10        101.228.192.255        20018   \n",
      "4 2023-07-16 13:11:07     71.166.185.76        189.243.174.238         6131   \n",
      "\n",
      "   Destination Port Protocol  Packet Length Packet Type Traffic Type  \\\n",
      "0             17616     ICMP            503        Data         HTTP   \n",
      "1             48166     ICMP           1174        Data         HTTP   \n",
      "2             53600      UDP            306     Control         HTTP   \n",
      "3             32534      UDP            385        Data         HTTP   \n",
      "4             26646      TCP           1462        Data          DNS   \n",
      "\n",
      "                                        Payload Data  ... Action Taken  \\\n",
      "0  Qui natus odio asperiores nam. Optio nobis ius...  ...       Logged   \n",
      "1  Aperiam quos modi officiis veritatis rem. Omni...  ...      Blocked   \n",
      "2  Perferendis sapiente vitae soluta. Hic delectu...  ...      Ignored   \n",
      "3  Totam maxime beatae expedita explicabo porro l...  ...      Blocked   \n",
      "4  Odit nesciunt dolorem nisi iste iusto. Animi v...  ...      Blocked   \n",
      "\n",
      "   Severity Level User Information  \\\n",
      "0             Low    Reyansh Dugal   \n",
      "1             Low       Sumer Rana   \n",
      "2             Low     Himmat Karpe   \n",
      "3          Medium       Fateh Kibe   \n",
      "4             Low     Dhanush Chad   \n",
      "\n",
      "                                  Device Information Network Segment  \\\n",
      "0  Mozilla/5.0 (compatible; MSIE 8.0; Windows NT ...       Segment A   \n",
      "1  Mozilla/5.0 (compatible; MSIE 8.0; Windows NT ...       Segment B   \n",
      "2  Mozilla/5.0 (compatible; MSIE 9.0; Windows NT ...       Segment C   \n",
      "3  Mozilla/5.0 (Macintosh; PPC Mac OS X 10_11_5; ...       Segment B   \n",
      "4  Mozilla/5.0 (compatible; MSIE 5.0; Windows NT ...       Segment C   \n",
      "\n",
      "    Geo-location Data Proxy Information Firewall Logs IDS/IPS Alerts  \\\n",
      "0  Jamshedpur, Sikkim      150.9.97.135      Log Data            NaN   \n",
      "1  Bilaspur, Nagaland               NaN      Log Data            NaN   \n",
      "2   Bokaro, Rajasthan    114.133.48.179      Log Data     Alert Data   \n",
      "3  Jaunpur, Rajasthan               NaN           NaN     Alert Data   \n",
      "4  Anantapur, Tripura     149.6.110.119           NaN     Alert Data   \n",
      "\n",
      "  Log Source  \n",
      "0     Server  \n",
      "1   Firewall  \n",
      "2   Firewall  \n",
      "3   Firewall  \n",
      "4   Firewall  \n",
      "\n",
      "[5 rows x 25 columns]\n"
     ]
    }
   ],
   "source": [
    "print(\"Cybersecurity Data Overview:\")\n",
    "print(cybersecurity_data.head())"
   ]
  },
  {
   "cell_type": "code",
   "execution_count": null,
   "id": "d9be7a95",
   "metadata": {},
   "outputs": [
    {
     "data": {
      "application/vnd.microsoft.datawrangler.viewer.v0+json": {
       "columns": [
        {
         "name": "index",
         "rawType": "object",
         "type": "string"
        },
        {
         "name": "0",
         "rawType": "int64",
         "type": "integer"
        }
       ],
       "ref": "cbb656b0-958f-4807-a7c4-19b91c4fb644",
       "rows": [
        [
         "Datetime",
         "0"
        ],
        [
         "Source IP Address",
         "0"
        ],
        [
         "Destination IP Address",
         "0"
        ],
        [
         "Source Port",
         "0"
        ],
        [
         "Destination Port",
         "0"
        ],
        [
         "Protocol",
         "0"
        ],
        [
         "Packet Length",
         "0"
        ],
        [
         "Packet Type",
         "0"
        ],
        [
         "Traffic Type",
         "0"
        ],
        [
         "Payload Data",
         "0"
        ],
        [
         "Malware Indicators",
         "0"
        ],
        [
         "Anomaly Scores",
         "0"
        ],
        [
         "Alerts/Warnings",
         "0"
        ],
        [
         "Attack Type",
         "0"
        ],
        [
         "Attack Signature",
         "0"
        ],
        [
         "Action Taken",
         "0"
        ],
        [
         "Severity Level",
         "0"
        ],
        [
         "User Information",
         "0"
        ],
        [
         "Device Information",
         "0"
        ],
        [
         "Network Segment",
         "0"
        ],
        [
         "Geo-location Data",
         "0"
        ],
        [
         "Proxy Information",
         "0"
        ],
        [
         "Firewall Logs",
         "0"
        ],
        [
         "IDS/IPS Alerts",
         "0"
        ],
        [
         "Log Source",
         "0"
        ]
       ],
       "shape": {
        "columns": 1,
        "rows": 25
       }
      },
      "text/plain": [
       "Datetime                  0\n",
       "Source IP Address         0\n",
       "Destination IP Address    0\n",
       "Source Port               0\n",
       "Destination Port          0\n",
       "Protocol                  0\n",
       "Packet Length             0\n",
       "Packet Type               0\n",
       "Traffic Type              0\n",
       "Payload Data              0\n",
       "Malware Indicators        0\n",
       "Anomaly Scores            0\n",
       "Alerts/Warnings           0\n",
       "Attack Type               0\n",
       "Attack Signature          0\n",
       "Action Taken              0\n",
       "Severity Level            0\n",
       "User Information          0\n",
       "Device Information        0\n",
       "Network Segment           0\n",
       "Geo-location Data         0\n",
       "Proxy Information         0\n",
       "Firewall Logs             0\n",
       "IDS/IPS Alerts            0\n",
       "Log Source                0\n",
       "dtype: int64"
      ]
     },
     "execution_count": 41,
     "metadata": {},
     "output_type": "execute_result"
    }
   ],
   "source": [
    "missing_columns = ['Alerts/Warnings', 'IDS/IPS Alerts', 'Malware Indicators', 'Firewall Logs', 'Proxy Information']\n",
    "# fill missing values \n",
    "fillvalaues = ['None', 'No Data', 'No Detected', 'No Data', 'No Proxy Data']\n",
    "for i in range(len(fillvalaues)):\n",
    "    cybersecurity_data.fillna({missing_columns[i]: fillvalaues[i]},inplace=True)\n",
    "\n",
    "cybersecurity_data.isnull().sum()"
   ]
  },
  {
   "cell_type": "code",
   "execution_count": null,
   "id": "5b14a09f",
   "metadata": {},
   "outputs": [
    {
     "data": {
      "image/png": "[encoded data removed]",
      "text/plain": [
       "<Figure size 700x700 with 1 Axes>"
      ]
     },
     "metadata": {},
     "output_type": "display_data"
    }
   ],
   "source": [
    "# Get attack type counts and labels\n",
    "attack_counts = cybersecurity_data[\"Attack Type\"].value_counts()\n",
    "labels = attack_counts.index\n",
    "\n",
    "plt.figure(figsize=(7, 7))\n",
    "plt.pie(attack_counts, labels=labels, autopct='%1.1f%%', startangle=90)\n",
    "plt.title('Attack Types Distribution')\n",
    "plt.axis('equal')\n",
    "plt.show()"
   ]
  },
  {
   "cell_type": "code",
   "execution_count": null,
   "id": "c214d4f2",
   "metadata": {},
   "outputs": [
    {
     "data": {
      "image/png": "[encoded data removed]",
      "text/plain": [
       "<Figure size 1200x600 with 1 Axes>"
      ]
     },
     "metadata": {},
     "output_type": "display_data"
    }
   ],
   "source": [
    "# Group by month and action taken\n",
    "action_taken_month = cybersecurity_data.groupby([\n",
    "    cybersecurity_data['Datetime'].dt.to_period('M'),\n",
    "    'Action Taken'\n",
    "]).size().unstack(fill_value=0)\n",
    "\n",
    "# Plot\n",
    "action_taken_month.index = action_taken_month.index.astype(str)\n",
    "action_taken_month.plot(kind='bar', stacked=True, figsize=(12, 6), color=['#493628', '#AB886D', '#D6C0B3'])\n",
    "plt.title('Monthly Attack Taken Trends')\n",
    "plt.xlabel('Month')\n",
    "plt.ylabel('Count')\n",
    "plt.legend(title='Action Taken')\n",
    "plt.tight_layout()\n",
    "plt.show()\n"
   ]
  },
  {
   "cell_type": "code",
   "execution_count": null,
   "id": "27366666",
   "metadata": {},
   "outputs": [
    {
     "name": "stdout",
     "output_type": "stream",
     "text": [
      "UNSW Data Overview:\n",
      "        dur proto service state  spkts  dpkts  sbytes  dbytes       rate  \\\n",
      "0  0.121478   tcp       -   FIN      6      4     258     172  74.087486   \n",
      "1  0.649902   tcp       -   FIN     14     38     734   42014  78.473373   \n",
      "2  1.623129   tcp       -   FIN      8     16     364   13186  14.170161   \n",
      "3  1.681642   tcp     ftp   FIN     12     12     628     770  13.677108   \n",
      "4  0.449454   tcp       -   FIN     10      6     534     268  33.373825   \n",
      "\n",
      "          sload  ...  trans_depth  response_body_len  ct_src_dport_ltm  \\\n",
      "0  14158.942383  ...            0                  0                 1   \n",
      "1   8395.112305  ...            0                  0                 1   \n",
      "2   1572.271851  ...            0                  0                 1   \n",
      "3   2740.178955  ...            0                  0                 1   \n",
      "4   8561.499023  ...            0                  0                 2   \n",
      "\n",
      "   ct_dst_sport_ltm  is_ftp_login  ct_ftp_cmd  ct_flw_http_mthd  \\\n",
      "0                 1             0           0                 0   \n",
      "1                 1             0           0                 0   \n",
      "2                 1             0           0                 0   \n",
      "3                 1             1           1                 0   \n",
      "4                 1             0           0                 0   \n",
      "\n",
      "   is_sm_ips_ports  attack_cat  label  \n",
      "0                0      Normal      0  \n",
      "1                0      Normal      0  \n",
      "2                0      Normal      0  \n",
      "3                0      Normal      0  \n",
      "4                0      Normal      0  \n",
      "\n",
      "[5 rows x 36 columns]\n",
      "\n",
      "Data Types:\n",
      "dur                   float32\n",
      "proto                category\n",
      "service              category\n",
      "state                category\n",
      "spkts                   int16\n",
      "dpkts                   int16\n",
      "sbytes                  int32\n",
      "dbytes                  int32\n",
      "rate                  float32\n",
      "sload                 float32\n",
      "dload                 float32\n",
      "sloss                   int16\n",
      "dloss                   int16\n",
      "sinpkt                float32\n",
      "dinpkt                float32\n",
      "sjit                  float32\n",
      "djit                  float32\n",
      "swin                    int16\n",
      "stcpb                   int64\n",
      "dtcpb                   int64\n",
      "dwin                    int16\n",
      "tcprtt                float32\n",
      "synack                float32\n",
      "ackdat                float32\n",
      "smean                   int16\n",
      "dmean                   int16\n",
      "trans_depth             int16\n",
      "response_body_len       int32\n",
      "ct_src_dport_ltm         int8\n",
      "ct_dst_sport_ltm         int8\n",
      "is_ftp_login             int8\n",
      "ct_ftp_cmd               int8\n",
      "ct_flw_http_mthd         int8\n",
      "is_sm_ips_ports          int8\n",
      "attack_cat           category\n",
      "label                    int8\n",
      "dtype: object\n",
      "\n",
      "Missing Values:\n",
      "dur                  0\n",
      "proto                0\n",
      "service              0\n",
      "state                0\n",
      "spkts                0\n",
      "dpkts                0\n",
      "sbytes               0\n",
      "dbytes               0\n",
      "rate                 0\n",
      "sload                0\n",
      "dload                0\n",
      "sloss                0\n",
      "dloss                0\n",
      "sinpkt               0\n",
      "dinpkt               0\n",
      "sjit                 0\n",
      "djit                 0\n",
      "swin                 0\n",
      "stcpb                0\n",
      "dtcpb                0\n",
      "dwin                 0\n",
      "tcprtt               0\n",
      "synack               0\n",
      "ackdat               0\n",
      "smean                0\n",
      "dmean                0\n",
      "trans_depth          0\n",
      "response_body_len    0\n",
      "ct_src_dport_ltm     0\n",
      "ct_dst_sport_ltm     0\n",
      "is_ftp_login         0\n",
      "ct_ftp_cmd           0\n",
      "ct_flw_http_mthd     0\n",
      "is_sm_ips_ports      0\n",
      "attack_cat           0\n",
      "label                0\n",
      "dtype: int64\n",
      "\n",
      "Descriptive Statistics:\n",
      "                 dur          spkts          dpkts        sbytes  \\\n",
      "count  175341.000000  175341.000000  175341.000000  1.753410e+05   \n",
      "mean        1.359389      20.298664      18.969591  8.844844e+03   \n",
      "std         6.480249     136.887597     110.258271  1.747656e+05   \n",
      "min         0.000000       1.000000       0.000000  2.800000e+01   \n",
      "25%         0.000008       2.000000       0.000000  1.140000e+02   \n",
      "50%         0.001582       2.000000       2.000000  4.300000e+02   \n",
      "75%         0.668069      12.000000      10.000000  1.418000e+03   \n",
      "max        59.999989    9616.000000   10974.000000  1.296523e+07   \n",
      "\n",
      "             dbytes            rate         sload         dload  \\\n",
      "count  1.753410e+05   175341.000000  1.753410e+05  1.753410e+05   \n",
      "mean   1.492892e+04    95406.179688  7.345403e+07  6.712056e+05   \n",
      "std    1.436542e+05   165400.968750  1.883574e+08  2.421312e+06   \n",
      "min    0.000000e+00        0.000000  0.000000e+00  0.000000e+00   \n",
      "25%    0.000000e+00       32.786140  1.305334e+04  0.000000e+00   \n",
      "50%    1.640000e+02     3225.806641  8.796748e+05  1.447023e+03   \n",
      "75%    1.102000e+03   125000.000000  8.888889e+07  2.784487e+04   \n",
      "max    1.465555e+07  1000000.000000  5.988000e+09  2.242273e+07   \n",
      "\n",
      "               sloss          dloss  ...          dmean    trans_depth  \\\n",
      "count  175341.000000  175341.000000  ...  175341.000000  175341.000000   \n",
      "mean        4.953000       6.948010  ...     124.173382       0.105982   \n",
      "std        66.005059      52.732999  ...     258.317056       0.776911   \n",
      "min         0.000000       0.000000  ...       0.000000       0.000000   \n",
      "25%         0.000000       0.000000  ...       0.000000       0.000000   \n",
      "50%         0.000000       0.000000  ...      44.000000       0.000000   \n",
      "75%         3.000000       2.000000  ...      89.000000       0.000000   \n",
      "max      4803.000000    5484.000000  ...    1458.000000     172.000000   \n",
      "\n",
      "       response_body_len  ct_src_dport_ltm  ct_dst_sport_ltm   is_ftp_login  \\\n",
      "count       1.753410e+05     175341.000000     175341.000000  175341.000000   \n",
      "mean        2.144292e+03          5.383538          4.206255       0.014948   \n",
      "std         5.420797e+04          8.047104          5.783585       0.126048   \n",
      "min         0.000000e+00          1.000000          1.000000       0.000000   \n",
      "25%         0.000000e+00          1.000000          1.000000       0.000000   \n",
      "50%         0.000000e+00          1.000000          1.000000       0.000000   \n",
      "75%         0.000000e+00          5.000000          3.000000       0.000000   \n",
      "max         6.558056e+06         51.000000         46.000000       4.000000   \n",
      "\n",
      "          ct_ftp_cmd  ct_flw_http_mthd  is_sm_ips_ports          label  \n",
      "count  175341.000000     175341.000000    175341.000000  175341.000000  \n",
      "mean        0.014948          0.133066         0.015752       0.680622  \n",
      "std         0.126048          0.701208         0.124516       0.466237  \n",
      "min         0.000000          0.000000         0.000000       0.000000  \n",
      "25%         0.000000          0.000000         0.000000       0.000000  \n",
      "50%         0.000000          0.000000         0.000000       1.000000  \n",
      "75%         0.000000          0.000000         0.000000       1.000000  \n",
      "max         4.000000         30.000000         1.000000       1.000000  \n",
      "\n",
      "[8 rows x 32 columns]\n",
      "\n",
      "Data Shape:\n",
      "(175341, 36)\n",
      "\n",
      "Column Names:\n",
      "['dur', 'proto', 'service', 'state', 'spkts', 'dpkts', 'sbytes', 'dbytes', 'rate', 'sload', 'dload', 'sloss', 'dloss', 'sinpkt', 'dinpkt', 'sjit', 'djit', 'swin', 'stcpb', 'dtcpb', 'dwin', 'tcprtt', 'synack', 'ackdat', 'smean', 'dmean', 'trans_depth', 'response_body_len', 'ct_src_dport_ltm', 'ct_dst_sport_ltm', 'is_ftp_login', 'ct_ftp_cmd', 'ct_flw_http_mthd', 'is_sm_ips_ports', 'attack_cat', 'label']\n"
     ]
    }
   ],
   "source": [
    "#unsw_data exploration\n",
    "print(\"UNSW Data Overview:\")\n",
    "print(unsw_data.head())\n",
    "print(\"\\nData Types:\")\n",
    "print(unsw_data.dtypes)\n",
    "print(\"\\nMissing Values:\")\n",
    "print(unsw_data.isnull().sum())\n",
    "print(\"\\nDescriptive Statistics:\")\n",
    "print(unsw_data.describe())\n",
    "print(\"\\nData Shape:\")\n",
    "print(unsw_data.shape)\n",
    "print(\"\\nColumn Names:\")\n",
    "print(unsw_data.columns.tolist())\n"
   ]
  },
  {
   "cell_type": "markdown",
   "id": "abab9e6d-18cc-4863-b980-3e52f581763a",
   "metadata": {},
   "source": [
    "# 4. Storytelling With Data graph"
   ]
  },
  {
   "cell_type": "markdown",
   "id": "1911148d-9df6-4b33-a875-8c96408ec834",
   "metadata": {},
   "source": [
    "Just like last week: choose any graph in the Introduction of Storytelling With Data. Use matplotlib to reproduce it in a rough way. I don't expect you to spend an enormous amount of time on this; I understand that you likely will not have time to re-create every feature of the graph. However, if you're excited about learning to use matplotlib, this is a good way to do that. You don't have to duplicate the exact values on the graph; just the same rough shape will be enough.  If you don't feel comfortable using matplotlib yet, do the best you can and write down what you tried or what Google searches you did to find the answers."
   ]
  },
  {
   "cell_type": "code",
   "execution_count": null,
   "id": "8b2888f9-3700-45ab-9829-6a5372106f9f",
   "metadata": {},
   "outputs": [],
   "source": []
  }
 ],
 "metadata": {
  "kernelspec": {
   "display_name": ".venv",
   "language": "python",
   "name": "python3"
  },
  "language_info": {
   "codemirror_mode": {
    "name": "ipython",
    "version": 3
   },
   "file_extension": ".py",
   "mimetype": "text/x-python",
   "name": "python",
   "nbconvert_exporter": "python",
   "pygments_lexer": "ipython3",
   "version": "3.13.5"
  }
 },
 "nbformat": 4,
 "nbformat_minor": 5
}
